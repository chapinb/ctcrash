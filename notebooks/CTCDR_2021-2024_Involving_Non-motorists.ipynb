{
 "cells": [
  {
   "cell_type": "markdown",
   "id": "c0db9855-6031-41e9-81bd-a3e50057d444",
   "metadata": {},
   "source": [
    "To run this notebook in colab, you will need to run the below block first. It is recommended to use rye for package management for local development. See the README for details."
   ]
  },
  {
   "cell_type": "code",
   "execution_count": null,
   "id": "36583dc0-3a27-4682-93ae-f8843a5c3b05",
   "metadata": {},
   "outputs": [],
   "source": [
    "# Uncomment the two lines below to run this in Google Colab\n",
    "# !git clone https://github.com/chapinb/ctcrash.git\n",
    "# !pip install -r requirements.txt"
   ]
  },
  {
   "cell_type": "code",
   "execution_count": null,
   "id": "3991913e-011e-40ee-8ed4-63904dd62585",
   "metadata": {
    "jupyter": {
     "source_hidden": true
    }
   },
   "outputs": [],
   "source": [
    "from pathlib import Path\n",
    "from IPython.display import display, Markdown\n",
    "import pandas as pd\n",
    "import seaborn as sns\n",
    "import matplotlib.pyplot as plt\n",
    "import folium\n",
    "from folium.plugins import HeatMap, HeatMapWithTime"
   ]
  },
  {
   "cell_type": "code",
   "execution_count": null,
   "id": "4c733ff4-8913-4a4e-aaac-ae24582734cd",
   "metadata": {
    "jupyter": {
     "source_hidden": true
    }
   },
   "outputs": [],
   "source": [
    "# Inline functions for ease of use in Google Colab\n",
    "def read_csv(\n",
    "    csv_file: Path, columns: list[str] | None = None, **kwargs\n",
    ") -> pd.DataFrame:\n",
    "    df = pd.read_csv(csv_file, skiprows=[0], **kwargs)\n",
    "    if columns:\n",
    "        return df[columns]\n",
    "    return df\n",
    "\n",
    "\n",
    "def create_pivot_table(df, index, columns, values=\"CrashId\", enable_totals=True):\n",
    "    return df.pivot_table(\n",
    "        index=index,\n",
    "        columns=columns,\n",
    "        values=values,\n",
    "        aggfunc=\"count\",\n",
    "        observed=False,\n",
    "        **{\"margins\": True, \"margins_name\": \"Total\"} if enable_totals else {},\n",
    "    )\n",
    "\n",
    "\n",
    "def pivot_table_with_totals_to_heatmap(pivot_table):\n",
    "    # Create a mask for the totals\n",
    "    mask = pd.DataFrame(False, index=pivot_table.index, columns=pivot_table.columns)\n",
    "    mask.loc[\"Total\", :] = True\n",
    "    mask.loc[:, \"Total\"] = True\n",
    "\n",
    "    # Create the heatmap\n",
    "    plt.figure(figsize=(12, 8))\n",
    "\n",
    "    # Heatmap for the main data excluding totals\n",
    "    sns.heatmap(pivot_table, annot=True, fmt=\"g\", cmap=\"flare\", mask=mask, cbar=False)\n",
    "\n",
    "    # Overlay heatmap for the totals with a different color\n",
    "    sns.heatmap(pivot_table, annot=True, fmt=\"g\", cmap=\"crest\", mask=~mask, cbar=False)\n",
    "\n",
    "    return plt\n",
    "\n",
    "\n",
    "def create_map(df):\n",
    "    # Create a base map\n",
    "    base_map = folium.Map(\n",
    "        location=[df[\"Latitude\"].mean(), df[\"Longitude\"].mean()], zoom_start=13\n",
    "    )\n",
    "\n",
    "    # Prepare data for heatmap\n",
    "    heat_data = [[row[\"Latitude\"], row[\"Longitude\"]] for index, row in df.iterrows()]\n",
    "\n",
    "    # Create and add heatmap to base map\n",
    "    HeatMap(heat_data).add_to(base_map)\n",
    "    return base_map\n",
    "\n"
   ]
  },
  {
   "cell_type": "code",
   "execution_count": null,
   "id": "eced4fb6-e3d6-4a2f-a526-b579b7a8d4cb",
   "metadata": {
    "jupyter": {
     "source_hidden": true
    }
   },
   "outputs": [],
   "source": [
    "data_directory = Path(\"data/norwalk_2021_2024\")\n",
    "data_date_range = '2021 to 2024'\n",
    "chart_title_prefix = f'of {data_date_range} Norwalk Crash Data involving a non-motorist'\n",
    "crashes_csv = data_directory / \"crashes.csv\"\n",
    "persons_csv = data_directory / \"persons.csv\"\n",
    "vehicles_csv = data_directory / \"vehicles.csv\""
   ]
  },
  {
   "cell_type": "code",
   "execution_count": null,
   "id": "fd17d126-747a-409b-84db-17bfb1481891",
   "metadata": {
    "jupyter": {
     "source_hidden": true
    }
   },
   "outputs": [],
   "source": [
    "crashes_columns = [\n",
    "    'CrashId',\n",
    "    'Latitude',\n",
    "    'Longitude',\n",
    "    'Date Of Crash',\n",
    "    'Time of Crash',\n",
    "    # 'Crash Severity',\n",
    "    'Crash Severity Text Format',\n",
    "    # 'Most Severe Injury',\n",
    "    'Most Severe Injury Text Format',\n",
    "    'Number Of Non-Motorist',\n",
    "    'Route Class',\n",
    "    'Route Class Text Format',\n",
    "    'Roadway Name',\n",
    "    'Intersecting Roadway Name',\n",
    "    'First Harmful Event Text Format',\n",
    "    'Manner of Crash / Collision Impact Text Format',\n",
    "    # 'Weather Condition Text Format',\n",
    "    'Average Daily Traffic'\n",
    "]\n",
    "crashes = read_csv(crashes_csv, crashes_columns)"
   ]
  },
  {
   "cell_type": "code",
   "execution_count": null,
   "id": "2972f23d-55b6-4509-b65a-c44ef038c259",
   "metadata": {
    "jupyter": {
     "source_hidden": true
    }
   },
   "outputs": [],
   "source": [
    "persons_columns = [\n",
    "    'CrashId',\n",
    "    'VehicleId',\n",
    "    'PersonId',\n",
    "    'Age',\n",
    "    # 'Gender',\n",
    "    'Gender Text Format',\n",
    "    'Injury Status Text Format',\n",
    "    'Condition at Time of Crash Text Format',\n",
    "    # 'Alcohol Test Status Text Format',\n",
    "    # 'Drug Test Status Text Format',\n",
    "    # 'Type Of Drig Test Text Format',\n",
    "    'Speeding Related Text Format',\n",
    "    'Helmet Use Text Format',\n",
    "    'Roadway On Which Nonmotorist Was Traveling/Located',\n",
    "    'Striking Motor Vehicle ID',\n",
    "    # 'Bicycle ID',\n",
    "    'Non-Motorist Not In Roadway',\n",
    "    'Non-motorist Distracted By Text Format',\n",
    "    'To or From School Text Format',\n",
    "    'State',\n",
    "    # 'Postal Code',\n",
    "    # 'Person Type',\n",
    "    'Person Type Text Format',\n",
    "]\n",
    "persons = read_csv(persons_csv, persons_columns, encoding_errors='backslashreplace')"
   ]
  },
  {
   "cell_type": "code",
   "execution_count": null,
   "id": "660ab356-e07c-4080-820f-659880fd811b",
   "metadata": {
    "jupyter": {
     "source_hidden": true
    }
   },
   "outputs": [],
   "source": [
    "vehicles_columns = [\n",
    "    'CrashId',\n",
    "    'VehicleId',\n",
    "    'Vehicle Unit Type Text Format',\n",
    "    'Number of Occupants in Vehicle',\n",
    "    'Make',\n",
    "    'Model',\n",
    "    # 'Vehicle Model Year Text Format',\n",
    "    'Most Harmful Event',\n",
    "    'Vehicle Maneuver/Action Text Format',\n",
    "    'Contributing Circumstances, Motor Vehicle Text Format',\n",
    "    'Posted/Statutory Speed Limit',\n",
    "    # 'Trafficway Description Text Format',\n",
    "    'Initial Contact Point Text Format',\n",
    "    'Extent of Damage Text Format',\n",
    "    'Body Type Text Format',\n",
    "    'Vehicle Action Text Format',\n",
    "    'Contributing Circumstances of Vehicle Text Format',\n",
    "    'Traffic Control Device Type Text Format',\n",
    "    # 'Traffic Control Device Functional?',\n",
    "    'Hit And Run Status',\n",
    "    'Bike Lanes/Sharrows Present',\n",
    "    'Name Of Roadway On Which Vehicle Was Traveling',\n",
    "    'Vehicle Was Not On Roadway',\n",
    "    # 'Motor Vehicle Registration Was Invalid',\n",
    "    # 'Motor Vehicle Registration Plate Was Missing',\n",
    "]\n",
    "vehicles = read_csv(vehicles_csv, vehicles_columns)"
   ]
  },
  {
   "cell_type": "code",
   "execution_count": null,
   "id": "f21ce461-26a3-4eb9-bd16-e12eeb3b1bf8",
   "metadata": {
    "jupyter": {
     "source_hidden": true
    }
   },
   "outputs": [],
   "source": [
    "full_crash_context = crashes.merge(persons, on='CrashId')\n",
    "full_crash_context = full_crash_context.merge(vehicles, on='CrashId')"
   ]
  },
  {
   "cell_type": "code",
   "execution_count": null,
   "id": "142746ef-e88e-4fb7-a7df-3c4c6f567408",
   "metadata": {
    "jupyter": {
     "source_hidden": true
    }
   },
   "outputs": [],
   "source": [
    "# Number of distinct crashes\n",
    "full_crash_context.groupby('CrashId')[['CrashId']].nunique().count()"
   ]
  },
  {
   "cell_type": "code",
   "execution_count": null,
   "id": "321004e6-35e1-40be-840f-dc9ad9cb8ddc",
   "metadata": {
    "jupyter": {
     "source_hidden": true
    }
   },
   "outputs": [],
   "source": [
    "min_date = full_crash_context['Date Of Crash'].min()\n",
    "max_date = full_crash_context['Date Of Crash'].max()\n",
    "\n",
    "display(Markdown(f'This data ranges from {min_date} to {max_date}. Data exported from https://www.ctcrash.uconn.edu/ using a query of all Norwalk activity from the prior 3 years that involved a non-motorist and included related entities (ie drivers, passengers, and witnesses.)'))"
   ]
  },
  {
   "cell_type": "code",
   "execution_count": null,
   "id": "ac83adf4-c631-4db3-b8e8-a850aac59497",
   "metadata": {
    "jupyter": {
     "source_hidden": true
    }
   },
   "outputs": [],
   "source": [
    "# Distinct person types\n",
    "full_crash_context.groupby('Person Type Text Format')[['Person Type Text Format']].count()"
   ]
  },
  {
   "cell_type": "code",
   "execution_count": null,
   "id": "51b38920-156b-404e-9a1b-e9aaa3eda788",
   "metadata": {
    "jupyter": {
     "source_hidden": true
    }
   },
   "outputs": [],
   "source": [
    "non_motorist_full_crash_context = full_crash_context[~full_crash_context['Person Type Text Format'].isin(['Driver', 'Passenger', 'Witness'])]\n",
    "events_by_person_and_injury = create_pivot_table(\n",
    "    non_motorist_full_crash_context,\n",
    "    'Person Type Text Format',\n",
    "    'Injury Status Text Format',\n",
    ")\n",
    "\n",
    "plt = pivot_table_with_totals_to_heatmap(events_by_person_and_injury)\n",
    "plt.title(f'Heatmap {chart_title_prefix} by person type and injury severity')\n",
    "plt.xlabel('Injury Status')\n",
    "plt.ylabel('Person Type')\n",
    "plt.xticks(rotation=45, ha='right')\n",
    "plt.show()"
   ]
  },
  {
   "cell_type": "code",
   "execution_count": null,
   "id": "280d9f7f-1dac-470e-86a0-d31e716b2544",
   "metadata": {
    "jupyter": {
     "source_hidden": true
    }
   },
   "outputs": [],
   "source": [
    "events_by_person_and_vehicle_action = create_pivot_table(non_motorist_full_crash_context, 'Person Type Text Format', 'Vehicle Action Text Format')\n",
    "\n",
    "plt = pivot_table_with_totals_to_heatmap(events_by_person_and_vehicle_action)\n",
    "plt.title(f'Heatmap {chart_title_prefix} by person type and vehicle activity at collision')\n",
    "plt.xlabel('Vehicle Activity')\n",
    "plt.ylabel('Person Type')\n",
    "plt.xticks(rotation=45, ha='right')\n",
    "plt.show()"
   ]
  },
  {
   "cell_type": "code",
   "execution_count": null,
   "id": "5545b362-860e-4868-8bf5-00239f2d4a22",
   "metadata": {
    "jupyter": {
     "source_hidden": true
    }
   },
   "outputs": [],
   "source": [
    "crash_map = create_map(crashes[['CrashId', 'Latitude', 'Longitude']].drop_duplicates())\n",
    "\n",
    "title_html = f'<h3 align=\"center\" style=\"font-size:20px\"><b>Heatmap {chart_title_prefix} locations.</b></h3>'\n",
    "crash_map.get_root().html.add_child(folium.Element(title_html))\n",
    "\n",
    "crash_map"
   ]
  },
  {
   "cell_type": "code",
   "execution_count": null,
   "id": "7b3a66f2-8964-469f-8b4f-a9008d973331",
   "metadata": {
    "jupyter": {
     "source_hidden": true
    }
   },
   "outputs": [],
   "source": [
    "straight_ahead_crash_map = create_map(non_motorist_full_crash_context[non_motorist_full_crash_context['Vehicle Action Text Format'] == 'Straight Ahead'][['CrashId', 'Latitude', 'Longitude']].drop_duplicates())\n",
    "\n",
    "title_html = f'<h3 align=\"center\" style=\"font-size:20px\"><b>Heatmap {chart_title_prefix} locations of straight ahead crashes.</b></h3>'\n",
    "straight_ahead_crash_map.get_root().html.add_child(folium.Element(title_html))\n",
    "straight_ahead_crash_map"
   ]
  },
  {
   "cell_type": "code",
   "execution_count": null,
   "id": "6a531750-614b-46c6-a5ef-5af8c920b8a4",
   "metadata": {
    "jupyter": {
     "source_hidden": true
    }
   },
   "outputs": [],
   "source": [
    "left_turn_crashes = non_motorist_full_crash_context[non_motorist_full_crash_context['Vehicle Action Text Format'] == 'Turning Left'][['CrashId', 'Latitude', 'Longitude']].drop_duplicates()\n",
    "\n",
    "left_turn_crash_map = create_map(left_turn_crashes)\n",
    "\n",
    "title_html = f'<h3 align=\"center\" style=\"font-size:20px\"><b>Heatmap {chart_title_prefix} locations of left turn crashes.</b></h3>'\n",
    "left_turn_crash_map.get_root().html.add_child(folium.Element(title_html))\n",
    "left_turn_crash_map"
   ]
  },
  {
   "cell_type": "code",
   "execution_count": null,
   "id": "035a8d8e-d47c-4b16-b210-2dcf242bdd64",
   "metadata": {
    "jupyter": {
     "source_hidden": true
    }
   },
   "outputs": [],
   "source": [
    "right_turn_crashes = non_motorist_full_crash_context[non_motorist_full_crash_context['Vehicle Action Text Format'] == 'Turning Right'][['CrashId', 'Latitude', 'Longitude']].drop_duplicates()\n",
    "\n",
    "right_turn_crash_map = create_map(right_turn_crashes)\n",
    "\n",
    "title_html = f'<h3 align=\"center\" style=\"font-size:20px\"><b>Heatmap {chart_title_prefix} locations of right turn crashes.</b></h3>'\n",
    "right_turn_crash_map.get_root().html.add_child(folium.Element(title_html))\n",
    "right_turn_crash_map"
   ]
  },
  {
   "cell_type": "code",
   "execution_count": null,
   "id": "8b125664-ef61-4cc6-a020-26e1ab08f692",
   "metadata": {
    "jupyter": {
     "source_hidden": true
    }
   },
   "outputs": [],
   "source": [
    "speeding_related = create_pivot_table(full_crash_context, 'Speeding Related Text Format', 'Person Type Text Format')\n",
    "speeding_related"
   ]
  },
  {
   "cell_type": "code",
   "execution_count": null,
   "id": "ef8503d4-3869-4b4a-b833-19cc92fef2d6",
   "metadata": {
    "jupyter": {
     "source_hidden": true
    }
   },
   "outputs": [],
   "source": [
    "route_class = create_pivot_table(non_motorist_full_crash_context, 'Person Type Text Format', 'Route Class Text Format')\n",
    "\n",
    "plt = pivot_table_with_totals_to_heatmap(route_class)\n",
    "plt.title(f'Heatmap {chart_title_prefix}, non-motorist injuries by route class')\n",
    "plt.xlabel('Route Class')\n",
    "plt.ylabel('Person Type')\n",
    "plt.xticks(rotation=45, ha='right')\n",
    "plt.yticks(rotation=0, ha='right')\n",
    "plt.show()"
   ]
  },
  {
   "cell_type": "code",
   "execution_count": null,
   "id": "1a95ed48-1e90-4846-8731-55b051fb58ef",
   "metadata": {
    "jupyter": {
     "source_hidden": true
    }
   },
   "outputs": [],
   "source": [
    "# Create groupings of persons by age range, using even 10 year bands\n",
    "age_bins = [0, 9, 19, 29, 39, 49, 59, 69, 79, 89, 99, 120]\n",
    "age_labels = ['0-9', '10-19', '20-29', '30s', '40s', '50s', '60s', '70s', '80s', '90s', '100+']\n",
    "full_crash_context['Age Band'] = pd.cut(full_crash_context['Age'], bins=age_bins, labels=age_labels, right=False)\n",
    "\n",
    "# Non-motorists\n",
    "injured_person_rows = full_crash_context[full_crash_context['Injury Status Text Format'].notna()]\n",
    "non_motorists_injured_person_rows = injured_person_rows[~injured_person_rows['Person Type Text Format'].isin(['Driver', 'Passenger'])]\n",
    "\n",
    "person_injured_by_age = create_pivot_table(non_motorists_injured_person_rows, 'Age Band', 'Person Type Text Format')\n",
    "\n",
    "plt = pivot_table_with_totals_to_heatmap(person_injured_by_age)\n",
    "plt.title(f'Heatmap {chart_title_prefix}, injuries for non-motorists by person type and age')\n",
    "plt.xlabel('Person Type')\n",
    "plt.ylabel('Age Band')\n",
    "plt.xticks(rotation=45, ha='right')\n",
    "plt.show()\n",
    "\n",
    "injurry_severity_by_age = create_pivot_table(non_motorists_injured_person_rows, 'Age Band', 'Injury Status Text Format')\n",
    "\n",
    "plt = pivot_table_with_totals_to_heatmap(injurry_severity_by_age)\n",
    "plt.title(f'Heatmap {chart_title_prefix}, injuries for non-motorists by age and severity')\n",
    "plt.xlabel('Injury Severity')\n",
    "plt.ylabel('Age Band')\n",
    "plt.xticks(rotation=45, ha='right')\n",
    "plt.show()"
   ]
  },
  {
   "cell_type": "code",
   "execution_count": null,
   "id": "3a1e67d4-8332-4112-be33-587dbf3c003f",
   "metadata": {
    "jupyter": {
     "source_hidden": true
    }
   },
   "outputs": [],
   "source": [
    "motorists_rows = injured_person_rows[injured_person_rows['Person Type Text Format'].isin(['Driver', 'Passenger'])]\n",
    "\n",
    "drivers_by_age_and_injury = create_pivot_table(motorists_rows, 'Age Band', 'Person Type Text Format')\n",
    "\n",
    "plt = pivot_table_with_totals_to_heatmap(drivers_by_age_and_injury)\n",
    "plt.title(f'Heatmap {chart_title_prefix}, injuries for drivers and passengers involved by age and person type')\n",
    "plt.xlabel('Person Type')\n",
    "plt.ylabel('Age Band')\n",
    "plt.xticks(rotation=45, ha='right')\n",
    "plt.show()\n",
    "\n",
    "drivers_by_age_and_injury = create_pivot_table(motorists_rows, 'Age Band', 'Injury Status Text Format')\n",
    "\n",
    "plt = pivot_table_with_totals_to_heatmap(drivers_by_age_and_injury)\n",
    "plt.title(f'Heatmap {chart_title_prefix}, injuries for drivers and passengers involved by age and severity')\n",
    "plt.xlabel('Injury Severity')\n",
    "plt.ylabel('Age Band')\n",
    "plt.xticks(rotation=45, ha='right')\n",
    "plt.show()"
   ]
  },
  {
   "cell_type": "code",
   "execution_count": null,
   "id": "e3c5c5bf-05da-4347-95c3-683b6d6cdd0f",
   "metadata": {
    "jupyter": {
     "source_hidden": true
    }
   },
   "outputs": [],
   "source": [
    "# Including 18 year olds, as that population likely includes high school seniors\n",
    "children_injured = non_motorist_full_crash_context[non_motorist_full_crash_context['Age'] <= 18]\n",
    "child_injuries_heatmap = create_map(children_injured)\n",
    "\n",
    "title_html = f'<h3 align=\"center\" style=\"font-size:20px\"><b>Heatmap {chart_title_prefix} locations of injuries involving children.</b></h3>'\n",
    "child_injuries_heatmap.get_root().html.add_child(folium.Element(title_html))\n",
    "child_injuries_heatmap"
   ]
  },
  {
   "cell_type": "code",
   "execution_count": null,
   "id": "18dbd427-816e-4d57-b093-608e485c6ed6",
   "metadata": {
    "jupyter": {
     "source_hidden": true
    }
   },
   "outputs": [],
   "source": [
    "non_motorist_injury_severity_by_gender = create_pivot_table(non_motorists_injured_person_rows, 'Gender Text Format', 'Injury Status Text Format')\n",
    "\n",
    "plt = pivot_table_with_totals_to_heatmap(non_motorist_injury_severity_by_gender)\n",
    "plt.title(f'Heatmap {chart_title_prefix}, injuries for non-motorists by gender and severity')\n",
    "plt.xlabel('Injury Severity')\n",
    "plt.ylabel('Gender')\n",
    "plt.xticks(rotation=45, ha='right')\n",
    "plt.show()"
   ]
  },
  {
   "cell_type": "code",
   "execution_count": null,
   "id": "20351808-cbef-4538-b9e5-0ce6201312b1",
   "metadata": {
    "jupyter": {
     "source_hidden": true
    }
   },
   "outputs": [],
   "source": [
    "route_class = create_pivot_table(non_motorist_full_crash_context, 'Body Type Text Format', 'Injury Status Text Format')\n",
    "\n",
    "plt = pivot_table_with_totals_to_heatmap(route_class)\n",
    "plt.title(f'Heatmap {chart_title_prefix} injury severity by vehicle body type')\n",
    "plt.xlabel('Injury Status')\n",
    "plt.ylabel('Vehicle Body Type')\n",
    "plt.xticks(rotation=45, ha='right')\n",
    "plt.yticks(rotation=0, ha='right')\n",
    "plt.show()"
   ]
  }
 ],
 "metadata": {
  "kernelspec": {
   "display_name": "Python 3 (ipykernel)",
   "language": "python",
   "name": "python3"
  },
  "language_info": {
   "codemirror_mode": {
    "name": "ipython",
    "version": 3
   },
   "file_extension": ".py",
   "mimetype": "text/x-python",
   "name": "python",
   "nbconvert_exporter": "python",
   "pygments_lexer": "ipython3",
   "version": "3.12.3"
  }
 },
 "nbformat": 4,
 "nbformat_minor": 5
}
